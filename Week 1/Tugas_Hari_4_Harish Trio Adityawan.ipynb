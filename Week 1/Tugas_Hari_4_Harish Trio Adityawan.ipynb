{
  "nbformat": 4,
  "nbformat_minor": 0,
  "metadata": {
    "kernelspec": {
      "display_name": "Python 3",
      "language": "python",
      "name": "python3"
    },
    "language_info": {
      "codemirror_mode": {
        "name": "ipython",
        "version": 3
      },
      "file_extension": ".py",
      "mimetype": "text/x-python",
      "name": "python",
      "nbconvert_exporter": "python",
      "pygments_lexer": "ipython3",
      "version": "3.7.7"
    },
    "colab": {
      "name": "Tugas Hari 4_Harish Trio Adityawan.ipynb",
      "provenance": [],
      "collapsed_sections": []
    }
  },
  "cells": [
    {
      "cell_type": "markdown",
      "metadata": {
        "id": "1O3NGQSKzf_A",
        "colab_type": "text"
      },
      "source": [
        "# List"
      ]
    },
    {
      "cell_type": "markdown",
      "metadata": {
        "id": "m2VWq6g9szIv",
        "colab_type": "text"
      },
      "source": [
        "<h2>Soal 1: Sifat List</h2>\n",
        "\n",
        "Jawab Pertanyaan di bawah ini:\n",
        "\n",
        "Jenis data apa saja yang bisa ada di dalam List?"
      ]
    },
    {
      "cell_type": "markdown",
      "metadata": {
        "id": "oUTuv3Me3izt",
        "colab_type": "text"
      },
      "source": [
        "string, integer, boolean, float"
      ]
    },
    {
      "cell_type": "markdown",
      "metadata": {
        "id": "XD1fT351szI2",
        "colab_type": "text"
      },
      "source": [
        "<h2>Soal 2: Akses List</h2>\n",
        "\n",
        "Lengkapi kode untuk menghasilkan suatu output yang di harapkan"
      ]
    },
    {
      "cell_type": "code",
      "metadata": {
        "id": "qXKteY88szI5",
        "colab_type": "code",
        "colab": {
          "base_uri": "https://localhost:8080/",
          "height": 34
        },
        "outputId": "8ad5646b-9302-44bf-b544-b2619c10ec4f"
      },
      "source": [
        "a = ['1', '13b', 'aa1', 1.32, 22.1, 2.34]\n",
        "# slicing list\n",
        "print(a[1:5])"
      ],
      "execution_count": null,
      "outputs": [
        {
          "output_type": "stream",
          "text": [
            "['13b', 'aa1', 1.32, 22.1]\n"
          ],
          "name": "stdout"
        }
      ]
    },
    {
      "cell_type": "markdown",
      "metadata": {
        "id": "4Qp2wjmOszJJ",
        "colab_type": "text"
      },
      "source": [
        "Expected Output :\n",
        "\n",
        "[ '13b', 'aa1', 1.32, 22.1 ]"
      ]
    },
    {
      "cell_type": "markdown",
      "metadata": {
        "id": "qf7YmOZzszJL",
        "colab_type": "text"
      },
      "source": [
        "<h2>Soal 3: Nested List</h2>\n",
        "\n",
        "Lengkapi kode untuk menghasilkan suatu output yang di harapkan"
      ]
    },
    {
      "cell_type": "code",
      "metadata": {
        "id": "JCac4gPfszJO",
        "colab_type": "code",
        "colab": {
          "base_uri": "https://localhost:8080/",
          "height": 34
        },
        "outputId": "b1c244da-f0ab-4192-dae4-a26d0d09ba24"
      },
      "source": [
        "a = [1.32, 22.1, 2.34]\n",
        "b = ['1', '13b', 'aa1']\n",
        "c = [3, 40, 100]\n",
        "# combine list\n",
        "print([a,b,c])"
      ],
      "execution_count": null,
      "outputs": [
        {
          "output_type": "stream",
          "text": [
            "[[1.32, 22.1, 2.34], ['1', '13b', 'aa1'], [3, 40, 100]]\n"
          ],
          "name": "stdout"
        }
      ]
    },
    {
      "cell_type": "markdown",
      "metadata": {
        "id": "mNzKeR8hszJk",
        "colab_type": "text"
      },
      "source": [
        "Expected Output :\n",
        "\n",
        "[ [1.32, 22.1, 2.34], [3, 40, 100], ['1', '13b', 'aa1'] ]"
      ]
    },
    {
      "cell_type": "markdown",
      "metadata": {
        "id": "zKS3e_kTszJm",
        "colab_type": "text"
      },
      "source": [
        "<h2>Soal 4: Akses Nested List</h2>\n",
        "\n",
        "Lengkapi kode untuk menghasilkan suatu output yang di harapkan"
      ]
    },
    {
      "cell_type": "code",
      "metadata": {
        "id": "IhFh_WCzszJo",
        "colab_type": "code",
        "colab": {
          "base_uri": "https://localhost:8080/",
          "height": 34
        },
        "outputId": "6d572528-909e-4130-f5b6-c9c9a3110425"
      },
      "source": [
        "a = [\n",
        "    [5, 9, 8],\n",
        "    [0, 0, 6]\n",
        "    ]\n",
        "# subsetting list\n",
        "print(a[1][1:3])"
      ],
      "execution_count": null,
      "outputs": [
        {
          "output_type": "stream",
          "text": [
            "[0, 6]\n"
          ],
          "name": "stdout"
        }
      ]
    },
    {
      "cell_type": "markdown",
      "metadata": {
        "id": "mk5EMa6pszJ2",
        "colab_type": "text"
      },
      "source": [
        "Expected Output :\n",
        "\n",
        "\n",
        "[0, 6]"
      ]
    },
    {
      "cell_type": "markdown",
      "metadata": {
        "id": "sTVLtrqCszJ4",
        "colab_type": "text"
      },
      "source": [
        "<h2>Soal 5: Built in Function List</h2>\n",
        "\n",
        "Lengkapi kode untuk menghasilkan suatu output yang di harapkan"
      ]
    },
    {
      "cell_type": "code",
      "metadata": {
        "id": "oCz3O7gAszJ6",
        "colab_type": "code",
        "colab": {
          "base_uri": "https://localhost:8080/",
          "height": 52
        },
        "outputId": "13ad55e0-74ba-4b18-8876-5545dbb0c364"
      },
      "source": [
        "p = [0, 5, 2, 10, 4, 9]\n",
        "# ordered list\n",
        "print(sorted(p, reverse=False))\n",
        "# get max value of list\n",
        "print(max(p))"
      ],
      "execution_count": null,
      "outputs": [
        {
          "output_type": "stream",
          "text": [
            "[0, 2, 4, 5, 9, 10]\n",
            "10\n"
          ],
          "name": "stdout"
        }
      ]
    },
    {
      "cell_type": "markdown",
      "metadata": {
        "id": "Nejk71aWszKE",
        "colab_type": "text"
      },
      "source": [
        "Expected Output :\n",
        "\n",
        "[0, 2, 4, 5, 9, 10]\n",
        "\n",
        "10"
      ]
    },
    {
      "cell_type": "markdown",
      "metadata": {
        "id": "OEU53cA_szKG",
        "colab_type": "text"
      },
      "source": [
        "<h2>Soal 6: List Operation</h2>\n",
        "\n",
        "Lengkapi kode untuk menghasilkan suatu output yang di harapkan"
      ]
    },
    {
      "cell_type": "code",
      "metadata": {
        "id": "N-dxC1qYszKJ",
        "colab_type": "code",
        "colab": {
          "base_uri": "https://localhost:8080/",
          "height": 34
        },
        "outputId": "d0655181-d41d-46ec-a5c1-add3da4beb04"
      },
      "source": [
        "a = [1, 3, 5]\n",
        "b = [5, 1, 3]\n",
        "# combine list\n",
        "print(b+a)"
      ],
      "execution_count": null,
      "outputs": [
        {
          "output_type": "stream",
          "text": [
            "[5, 1, 3, 1, 3, 5]\n"
          ],
          "name": "stdout"
        }
      ]
    },
    {
      "cell_type": "markdown",
      "metadata": {
        "id": "g0xy9HZrszKV",
        "colab_type": "text"
      },
      "source": [
        "Expected Output :\n",
        "\n",
        "[5, 1, 3, 1, 3, 5]"
      ]
    },
    {
      "cell_type": "markdown",
      "metadata": {
        "id": "cggENDN4szKX",
        "colab_type": "text"
      },
      "source": [
        "<h2>Soal 7: List Manipulation</h2>\n",
        "\n",
        "Lengkapi kode untuk menghasilkan suatu output yang di harapkan"
      ]
    },
    {
      "cell_type": "code",
      "metadata": {
        "id": "GOZQAPg9szKa",
        "colab_type": "code",
        "colab": {
          "base_uri": "https://localhost:8080/",
          "height": 34
        },
        "outputId": "7dcfa299-cc45-4465-8e7a-00e70f40982d"
      },
      "source": [
        "a = [\n",
        "    [5, 9, 8],\n",
        "    [0, 0, 6]\n",
        "    ]\n",
        "# change list value\n",
        "a[0][2] = 10\n",
        "# change list value\n",
        "a[1][0] = 11\n",
        "print(a)"
      ],
      "execution_count": null,
      "outputs": [
        {
          "output_type": "stream",
          "text": [
            "[[5, 9, 10], [11, 0, 6]]\n"
          ],
          "name": "stdout"
        }
      ]
    },
    {
      "cell_type": "markdown",
      "metadata": {
        "id": "iYHFRJW7szKl",
        "colab_type": "text"
      },
      "source": [
        "Expected Output :\n",
        "\n",
        "[ [5, 9, 10], [11, 0, 6] ]"
      ]
    },
    {
      "cell_type": "markdown",
      "metadata": {
        "id": "dSTDqY9iszKn",
        "colab_type": "text"
      },
      "source": [
        "<h2>Soal 8: Delete Element List</h2>\n",
        "\n",
        "Lengkapi kode untuk menghasilkan suatu output yang di harapkan"
      ]
    },
    {
      "cell_type": "code",
      "metadata": {
        "id": "hTQNLWiUszKq",
        "colab_type": "code",
        "colab": {
          "base_uri": "https://localhost:8080/",
          "height": 34
        },
        "outputId": "e3259235-7fd7-4bf4-dd14-0c8b3874e8d5"
      },
      "source": [
        "areas = [\"hallway\", 11.25, \"kitchen\", 18.0,\n",
        "        \"chill zone\", 20.0, \"bedroom\", 10.75,\n",
        "         \"bathroom\", 10.50, \"poolhouse\", 24.5,\n",
        "         \"garage\", 15.45]\n",
        "\n",
        "# Hilangkan elemen yang bernilai \"bathroom\" dan 10.50 dalam satu statement code\n",
        "del(areas[8:10])\n",
        "print(areas)"
      ],
      "execution_count": null,
      "outputs": [
        {
          "output_type": "stream",
          "text": [
            "['hallway', 11.25, 'kitchen', 18.0, 'chill zone', 20.0, 'bedroom', 10.75, 'poolhouse', 24.5, 'garage', 15.45]\n"
          ],
          "name": "stdout"
        }
      ]
    },
    {
      "cell_type": "markdown",
      "metadata": {
        "id": "ZeF61jc_szK1",
        "colab_type": "text"
      },
      "source": [
        "Expected Output:\n",
        "\n",
        "['hallway',\n",
        " 11.25,\n",
        " 'kitchen',\n",
        " 18.0,\n",
        " 'chill zone',\n",
        " 20.0,\n",
        " 'bedroom',\n",
        " 10.75,\n",
        " 'poolhouse',\n",
        " 24.5,\n",
        " 'garage',\n",
        " 15.45]\n",
        "\n"
      ]
    },
    {
      "cell_type": "markdown",
      "metadata": {
        "id": "onKmJ3XqY5FN",
        "colab_type": "text"
      },
      "source": [
        "## Soal 9: List Comprehension\n",
        "\n",
        "Gunakan metode **list comprehension** untuk mencari anggota dari S yang habis di bagi 2, kemudian assign hasilnya dalam bentuk list ke dalam variabel T."
      ]
    },
    {
      "cell_type": "code",
      "metadata": {
        "id": "xs3OWJP_Z5rb",
        "colab_type": "code",
        "colab": {
          "base_uri": "https://localhost:8080/",
          "height": 34
        },
        "outputId": "73dceb88-690c-4534-cc08-cbb20e4b2e4e"
      },
      "source": [
        "S = [0, 1, 4, 9, 16, 25, 36, 49, 64, 81]\n",
        "\n",
        "T = [i for i in S if i%2==0]\n",
        "\n",
        "print(T)"
      ],
      "execution_count": null,
      "outputs": [
        {
          "output_type": "stream",
          "text": [
            "[0, 4, 16, 36, 64]\n"
          ],
          "name": "stdout"
        }
      ]
    },
    {
      "cell_type": "markdown",
      "metadata": {
        "id": "Jjn-28CDaShb",
        "colab_type": "text"
      },
      "source": [
        "Expected Output:\n",
        "\n",
        "[0, 4, 16, 36, 64]"
      ]
    },
    {
      "cell_type": "markdown",
      "metadata": {
        "id": "gdBwjXz8zoMi",
        "colab_type": "text"
      },
      "source": [
        "# Dictionary"
      ]
    },
    {
      "cell_type": "markdown",
      "metadata": {
        "id": "fyoYEJKw6qoo",
        "colab_type": "text"
      },
      "source": [
        "<h2>Soal 10: Akses Dictionary</h2>\n",
        "\n",
        "Lengkapi kode untuk menghasilkan suatu output yang di harapkan"
      ]
    },
    {
      "cell_type": "code",
      "metadata": {
        "id": "rs7ByDTw6qop",
        "colab_type": "code",
        "colab": {
          "base_uri": "https://localhost:8080/",
          "height": 52
        },
        "outputId": "411084fa-d235-4e33-d330-e33500443500"
      },
      "source": [
        "europe = {'spain':'madrid', 'france':'paris', 'germany':'berlin', 'norway':'oslo' }\n",
        "\n",
        "# print semua key yang ada di objek europe\n",
        "print (europe.keys())\n",
        "# print nilai dari key franche\n",
        "print (europe['france'])"
      ],
      "execution_count": null,
      "outputs": [
        {
          "output_type": "stream",
          "text": [
            "dict_keys(['spain', 'france', 'germany', 'norway'])\n",
            "paris\n"
          ],
          "name": "stdout"
        }
      ]
    },
    {
      "cell_type": "markdown",
      "metadata": {
        "id": "LF8QRq8E6qov",
        "colab_type": "text"
      },
      "source": [
        "Expected Output:\n",
        "\n",
        "dict_keys(['spain', 'france', 'germany', 'norway'])\n",
        "\n",
        "paris"
      ]
    },
    {
      "cell_type": "markdown",
      "metadata": {
        "id": "qjMKbE9D6qow",
        "colab_type": "text"
      },
      "source": [
        "<h2>Soal 11: Menambahkan key-value baru ke Dictionary</h2>\n",
        "\n",
        "Lengkapi kode untuk menghasilkan suatu output yang di harapkan"
      ]
    },
    {
      "cell_type": "code",
      "metadata": {
        "id": "rU7Z5dzC6qox",
        "colab_type": "code",
        "colab": {
          "base_uri": "https://localhost:8080/",
          "height": 34
        },
        "outputId": "3d7b5c89-a485-4113-f64f-68605e5ede1c"
      },
      "source": [
        "europe = {'spain':'madrid', 'france':'paris', 'germany':'berlin', 'norway':'oslo' }\n",
        "\n",
        "# tambahkan key itali ke objek dictionary dengan value roma\n",
        "europe['roma'] = 'itali'\n",
        "\n",
        "# cek apakah itali ada di dalam objek dictionary\n",
        "print('itali' in europe.values())"
      ],
      "execution_count": null,
      "outputs": [
        {
          "output_type": "stream",
          "text": [
            "True\n"
          ],
          "name": "stdout"
        }
      ]
    },
    {
      "cell_type": "markdown",
      "metadata": {
        "id": "ur84PUyz6qo1",
        "colab_type": "text"
      },
      "source": [
        "Expected Output:\n",
        "    \n",
        "True"
      ]
    },
    {
      "cell_type": "markdown",
      "metadata": {
        "id": "bgilSLKl6qo2",
        "colab_type": "text"
      },
      "source": [
        "<h2>Soal 12: Update dan Remove Dictinary</h2>\n",
        "    \n",
        "Lengkapi kode untuk menghasilkan suatu output yang di harapkan"
      ]
    },
    {
      "cell_type": "code",
      "metadata": {
        "id": "QO9EowXH6qo2",
        "colab_type": "code",
        "colab": {
          "base_uri": "https://localhost:8080/",
          "height": 34
        },
        "outputId": "bc7be8d7-6efc-44d3-d711-5a8f93a9b962"
      },
      "source": [
        "europe = {'spain':'madrid', 'france':'paris', 'germany':'bonn',\n",
        "          'norway':'oslo', 'italy':'rome', 'poland':'warsaw',\n",
        "          'australia':'vienna' }\n",
        "\n",
        "# update nilai ibukota german ke berlin\n",
        "europe['germany'] = 'berlin'\n",
        "\n",
        "# remove australia dari europa\n",
        "del(europe['australia'])\n",
        "print(europe)"
      ],
      "execution_count": null,
      "outputs": [
        {
          "output_type": "stream",
          "text": [
            "{'spain': 'madrid', 'france': 'paris', 'germany': 'berlin', 'norway': 'oslo', 'italy': 'rome', 'poland': 'warsaw'}\n"
          ],
          "name": "stdout"
        }
      ]
    },
    {
      "cell_type": "markdown",
      "metadata": {
        "id": "VDpHuoXS6qo6",
        "colab_type": "text"
      },
      "source": [
        "Expected Output:\n",
        "\n",
        "{'spain': 'madrid', 'france': 'paris', 'germany': 'berlin', 'norway': 'oslo', 'italy': 'rome', 'poland': 'warsaw'}"
      ]
    },
    {
      "cell_type": "markdown",
      "metadata": {
        "id": "FNWyId1S6qo7",
        "colab_type": "text"
      },
      "source": [
        "<h2>Soal 13: Nested Dictionary</h2>\n",
        "    \n",
        "Lengkapi kode untuk menghasilkan suatu output yang di harapkan"
      ]
    },
    {
      "cell_type": "code",
      "metadata": {
        "id": "OAkJDiGd6qo7",
        "colab_type": "code",
        "colab": {
          "base_uri": "https://localhost:8080/",
          "height": 72
        },
        "outputId": "8bb9d693-7081-448d-d35a-6116d4518817"
      },
      "source": [
        "country = { \n",
        "           'spain': { 'capital':'madrid', 'population':46.77 },\n",
        "           'france': { 'capital':'paris', 'population':66.03 },\n",
        "           'germany': { 'capital':'berlin', 'population':80.62 },\n",
        "           'norway': { 'capital':'oslo', 'population':5.084 } \n",
        "         }\n",
        "\n",
        "# berapa populasi dari kota german?\n",
        "print(country['germany']['population'])\n",
        "\n",
        "# update data baru, yaitu negara indonesia dengan capital jakarta dan poulasi 250\n",
        "country['indonesia'] = {}\n",
        "country['indonesia']['capital'] = 'jakarta'\n",
        "country['indonesia']['population'] = 250\n",
        "\n",
        "\n",
        "print(country)"
      ],
      "execution_count": null,
      "outputs": [
        {
          "output_type": "stream",
          "text": [
            "80.62\n",
            "{'spain': {'capital': 'madrid', 'population': 46.77}, 'france': {'capital': 'paris', 'population': 66.03}, 'germany': {'capital': 'berlin', 'population': 80.62}, 'norway': {'capital': 'oslo', 'population': 5.084}, 'indonesia': {'capital': 'jakarta', 'population': 250}}\n"
          ],
          "name": "stdout"
        }
      ]
    },
    {
      "cell_type": "markdown",
      "metadata": {
        "id": "fKT0REFD6qo_",
        "colab_type": "text"
      },
      "source": [
        "Expected Output:\n",
        "\n",
        "80.62\n",
        "\n",
        "{'spain': {'capital': 'madrid', 'population': 46.77}, 'france': {'capital': 'paris', 'population': 66.03}, 'germany': {'capital': 'berlin', 'population': 80.62}, 'norway': {'capital': 'oslo', 'population': 5.084}, 'indonesia': {'capital': 'jakarta', 'population': 250}}"
      ]
    },
    {
      "cell_type": "markdown",
      "metadata": {
        "id": "xefUN_T56qpA",
        "colab_type": "text"
      },
      "source": [
        "<h2>Soal 14: Loop Dictionary</h2>\n",
        "    \n",
        "Lengkapi kode untuk menghasilkan suatu output yang di harapkan"
      ]
    },
    {
      "cell_type": "code",
      "metadata": {
        "id": "SkYQ0sD76qpA",
        "colab_type": "code",
        "colab": {
          "base_uri": "https://localhost:8080/",
          "height": 105
        },
        "outputId": "205a77a6-1a51-4bce-a178-36a1af7dc00d"
      },
      "source": [
        "country = { \n",
        "           'spain': { 'capital':'madrid', 'population':46.77 },\n",
        "           'france': { 'capital':'paris', 'population':66.03 },\n",
        "           'germany': { 'capital':'berlin', 'population':80.62 },\n",
        "           'norway': { 'capital':'oslo', 'population':5.084 },\n",
        "           'indonesia' : {'capital':'jakarta', 'population':250}\n",
        "         }\n",
        "\n",
        "for key,value in country.items():\n",
        "    print('Ibukota '+ str(key) +' adalah '+ str(country[key]['capital']))"
      ],
      "execution_count": null,
      "outputs": [
        {
          "output_type": "stream",
          "text": [
            "Ibukota spain adalah madrid\n",
            "Ibukota france adalah paris\n",
            "Ibukota germany adalah berlin\n",
            "Ibukota norway adalah oslo\n",
            "Ibukota indonesia adalah jakarta\n"
          ],
          "name": "stdout"
        }
      ]
    },
    {
      "cell_type": "markdown",
      "metadata": {
        "id": "YjX6xAtj6qpE",
        "colab_type": "text"
      },
      "source": [
        "Expected Output:\n",
        "    \n",
        "Ibukota spain adalah madrid\n",
        "\n",
        "Ibukota france adalah paris\n",
        "\n",
        "Ibukota germany adalah berlin\n",
        "\n",
        "Ibukota norway adalah oslo\n",
        "\n",
        "Ibukota indonesia adalah jakarta"
      ]
    },
    {
      "cell_type": "markdown",
      "metadata": {
        "id": "4T0undUuWjSR",
        "colab_type": "text"
      },
      "source": [
        "<h2> Soal Tambahan No 1 </h2>\n",
        "\n",
        "Buatlah sebuah fungsi, yang menerima suatu argument objek list, dan return sebuah objek list baru, dimana objek list baru ini berisi list sebelumnya dikurangi dengan data yang duplikat, sehingga setiap element di dalam list adalah unik.\n",
        "\n",
        "Berikan 2 solusi, solusi pertama menggunakan loop dan list, solusi yang kedua menggunakan objek set!"
      ]
    },
    {
      "cell_type": "code",
      "metadata": {
        "id": "Pv0h9YmsWhl_",
        "colab_type": "code",
        "colab": {
          "base_uri": "https://localhost:8080/",
          "height": 52
        },
        "outputId": "be75288e-0400-4e72-9dff-378117b42586"
      },
      "source": [
        "# solusi tanpa menggunakan set\n",
        "def remove_duplicate(obj_list):\n",
        "    new_list=[]\n",
        "    for i in obj_list:\n",
        "        if i not in new_list:\n",
        "            new_list.append(i)\n",
        "    return new_list\n",
        "\n",
        "# solusi dengan menggunakan set\n",
        "def remove_duplicate_with_set(obj_list):\n",
        "    new_list = set(obj_list)\n",
        "    return new_list\n",
        "\n",
        "obj_list = [1, 2, 4, 6, 2, 1, 4, 5, 7, 8, 6]\n",
        "print(remove_duplicate(obj_list))\n",
        "print(remove_duplicate_with_set(obj_list))"
      ],
      "execution_count": null,
      "outputs": [
        {
          "output_type": "stream",
          "text": [
            "[1, 2, 4, 6, 5, 7, 8]\n",
            "{1, 2, 4, 5, 6, 7, 8}\n"
          ],
          "name": "stdout"
        }
      ]
    },
    {
      "cell_type": "markdown",
      "metadata": {
        "id": "iHmBKTaiZU_X",
        "colab_type": "text"
      },
      "source": [
        "Expected Output:\n",
        "<br>\n",
        "[1, 2, 4, 6, 5, 7, 8]<br>\n",
        "[1, 2, 4, 5, 6, 7, 8]"
      ]
    },
    {
      "cell_type": "markdown",
      "metadata": {
        "id": "cyrMrBzHmK_B",
        "colab_type": "text"
      },
      "source": [
        "<h2> Soal Tambahan No 2 </h2>\n",
        "Buatlah sebuah fungsi chatbot yang memberikan suatu respon dimana chatbot ini menerima satu argument string.\n",
        "\n",
        "Buah sebuah fungsi chatbot yang memberikan suatu respon dimana chatbot ini menerima satu argument string.\n",
        "\n",
        "Jika argument adalah pertanyaan kemudian chatbot mengecek lagi apakah pertanyaan tersebut adalah pertanyaan yang bisa di jawab atau tidak. Jika pertanyaannya bisa di jawab maka fungsi akan memberikan jawaban yang bersifat random berdasarkan opsi list jawaban yang disediakan berdasarkan jenis pertanyaan tersebut. Jika tidak maka chatbot akan memberikan jawaban default bahwa chatbot tidak mengerti pertanyaannya.\n",
        "\n",
        "Jika argument adalah bukan pertanyaan maka chatbot akan memberikan sebuah statement random yang disediakan."
      ]
    },
    {
      "cell_type": "code",
      "metadata": {
        "id": "rrNOpV5_mQ32",
        "colab_type": "code",
        "colab": {
          "base_uri": "https://localhost:8080/",
          "height": 87
        },
        "outputId": "f74de694-a191-4f6f-b99b-72b83a83df4d"
      },
      "source": [
        "# import library\n",
        "from datetime import datetime\n",
        "import random\n",
        "# ganti dengan sebuah nama\n",
        "nama  = \"Harish Trio Adityawan\"\n",
        "# variabel tanggal\n",
        "tanggal = datetime.now().day\n",
        "# default variabel untuk pertanyaan tidak diketahui\n",
        "default = \"maaf, aku tidak tahu jawaban dari pertanyaanmu\"\n",
        "\n",
        "# Membuat objek dictionary berisi berbagai opsi jawaban\n",
        "\n",
        "# list jawaban untuk pertanyaan tentang nama\n",
        "jawaban_nama = [\n",
        "    \"nama saya  {0}\".format(nama),\n",
        "    \"orang-orang memanggil saya {0}\".format(nama),\n",
        "    \"panggil saja saya {0}\".format(nama)\n",
        "]\n",
        "\n",
        "# list jawaban untuk pertanyaan tentang tanggal\n",
        "jawaban_tanggal = [\n",
        "    \"hari ini tanggal {0}\".format(tanggal),\n",
        "    \"ya ampun masa tidak tahu, hari ini tanggal {0}\".format(tanggal)\n",
        "    ]\n",
        "\n",
        "# opsi pertanyaan yang bisa dijawab\n",
        "pertanyaan = {\n",
        "    \"nama kamu siapa?\": jawaban_nama,\n",
        "    \"kamu siapa?\" : jawaban_nama,\n",
        "    \"tanggal berapa hari ini?\": jawaban_tanggal,\n",
        "    \"hari ini tanggal berapa?\" : jawaban_tanggal,\n",
        "    \"default\": default\n",
        "}\n",
        "\n",
        "# list jawaban untuk sebuah argument selain pertanyaan\n",
        "statement =  [\n",
        "            'ceritakan lebih banyak!',\n",
        "            'kenapa kamu berpikir begitu?',\n",
        "            'sudah berapa lama kamu merasa seperti ini?',\n",
        "            'Itu sangat menarik!',\n",
        "            'oh wow!',\n",
        "            ':)'\n",
        "           ]\n",
        "\n",
        "# respon keseluruhan\n",
        "responses = {\n",
        "    'pertanyaan' : pertanyaan,\n",
        "    'statement' : statement\n",
        "}\n",
        "             \n",
        "def chatbot(message):\n",
        "    if  (message[-1] == \"?\"):\n",
        "        if message in pertanyaan.keys():\n",
        "            return pertanyaan[message][random.randint(0,len((pertanyaan[message]))-1)]\n",
        "        else:\n",
        "            return default\n",
        "    else:\n",
        "        return statement[random.randint(0,len(statement)-1)]\n",
        "        \n",
        "print(chatbot('Selamat Pagi'))\n",
        "print(chatbot('Mau bermain bersamaku?'))\n",
        "print(chatbot('nama kamu siapa?'))\n",
        "print(chatbot('hari ini tanggal berapa?'))"
      ],
      "execution_count": null,
      "outputs": [
        {
          "output_type": "stream",
          "text": [
            "oh wow!\n",
            "maaf, aku tidak tahu jawaban dari pertanyaanmu\n",
            "nama saya  Harish Trio Adityawan\n",
            "hari ini tanggal 20\n"
          ],
          "name": "stdout"
        }
      ]
    }
  ]
}