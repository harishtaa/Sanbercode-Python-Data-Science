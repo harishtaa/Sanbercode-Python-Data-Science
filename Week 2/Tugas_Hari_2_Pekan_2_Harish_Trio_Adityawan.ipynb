{
  "nbformat": 4,
  "nbformat_minor": 0,
  "metadata": {
    "colab": {
      "name": "Tugas Hari 2 Pekan 2_Harish Trio A.ipynb",
      "provenance": [],
      "collapsed_sections": []
    },
    "kernelspec": {
      "display_name": "Python 3",
      "language": "python",
      "name": "python3"
    },
    "language_info": {
      "codemirror_mode": {
        "name": "ipython",
        "version": 3
      },
      "file_extension": ".py",
      "mimetype": "text/x-python",
      "name": "python",
      "nbconvert_exporter": "python",
      "pygments_lexer": "ipython3",
      "version": "3.8.1"
    }
  },
  "cells": [
    {
      "cell_type": "code",
      "metadata": {
        "colab_type": "code",
        "id": "GyakVoXhBGrv",
        "colab": {
          "base_uri": "https://localhost:8080/",
          "height": 195
        },
        "outputId": "e79583ef-b703-40ca-da0c-61c2f9a3df78"
      },
      "source": [
        "# Persiapan membuat data\n",
        "import pandas as pd\n",
        "import random\n",
        " \n",
        "pelajaran = ['Matematika', 'Fisika', 'Biologi', 'Kimia', 'Geologi', 'Ekonomi']\n",
        "kelas = ['12A', '12B', '12C', '12D']\n",
        " \n",
        "hasil_nilai = {\n",
        "    'siswa_id' : range(1, 21),\n",
        "    'pelajaran' : [random.choice(pelajaran) for i in range(20)],\n",
        "    'nilai' : [random.choice(range(0, 100)) for i in range(20)],\n",
        "    'jenis-kelamin' : [random.choice(['laki-laki', 'perempuan']) for i in range(20)],\n",
        "    'kelas' : [random.choice(kelas) for i in range(20)]\n",
        "}\n",
        " \n",
        "df = pd.DataFrame(hasil_nilai)\n",
        "df.head()"
      ],
      "execution_count": null,
      "outputs": [
        {
          "output_type": "execute_result",
          "data": {
            "text/html": [
              "<div>\n",
              "<style scoped>\n",
              "    .dataframe tbody tr th:only-of-type {\n",
              "        vertical-align: middle;\n",
              "    }\n",
              "\n",
              "    .dataframe tbody tr th {\n",
              "        vertical-align: top;\n",
              "    }\n",
              "\n",
              "    .dataframe thead th {\n",
              "        text-align: right;\n",
              "    }\n",
              "</style>\n",
              "<table border=\"1\" class=\"dataframe\">\n",
              "  <thead>\n",
              "    <tr style=\"text-align: right;\">\n",
              "      <th></th>\n",
              "      <th>siswa_id</th>\n",
              "      <th>pelajaran</th>\n",
              "      <th>nilai</th>\n",
              "      <th>jenis-kelamin</th>\n",
              "      <th>kelas</th>\n",
              "    </tr>\n",
              "  </thead>\n",
              "  <tbody>\n",
              "    <tr>\n",
              "      <th>0</th>\n",
              "      <td>1</td>\n",
              "      <td>Matematika</td>\n",
              "      <td>33</td>\n",
              "      <td>laki-laki</td>\n",
              "      <td>12D</td>\n",
              "    </tr>\n",
              "    <tr>\n",
              "      <th>1</th>\n",
              "      <td>2</td>\n",
              "      <td>Ekonomi</td>\n",
              "      <td>54</td>\n",
              "      <td>laki-laki</td>\n",
              "      <td>12B</td>\n",
              "    </tr>\n",
              "    <tr>\n",
              "      <th>2</th>\n",
              "      <td>3</td>\n",
              "      <td>Ekonomi</td>\n",
              "      <td>14</td>\n",
              "      <td>perempuan</td>\n",
              "      <td>12D</td>\n",
              "    </tr>\n",
              "    <tr>\n",
              "      <th>3</th>\n",
              "      <td>4</td>\n",
              "      <td>Geologi</td>\n",
              "      <td>13</td>\n",
              "      <td>perempuan</td>\n",
              "      <td>12A</td>\n",
              "    </tr>\n",
              "    <tr>\n",
              "      <th>4</th>\n",
              "      <td>5</td>\n",
              "      <td>Matematika</td>\n",
              "      <td>52</td>\n",
              "      <td>laki-laki</td>\n",
              "      <td>12A</td>\n",
              "    </tr>\n",
              "  </tbody>\n",
              "</table>\n",
              "</div>"
            ],
            "text/plain": [
              "   siswa_id   pelajaran  nilai jenis-kelamin kelas\n",
              "0         1  Matematika     33     laki-laki   12D\n",
              "1         2     Ekonomi     54     laki-laki   12B\n",
              "2         3     Ekonomi     14     perempuan   12D\n",
              "3         4     Geologi     13     perempuan   12A\n",
              "4         5  Matematika     52     laki-laki   12A"
            ]
          },
          "metadata": {
            "tags": []
          },
          "execution_count": 49
        }
      ]
    },
    {
      "cell_type": "markdown",
      "metadata": {
        "colab_type": "text",
        "id": "aNoScqypBGr5"
      },
      "source": [
        "<h2>Soal 1: Indexing</h2>\n",
        "\n",
        "1. Lakukan indexing terhadap dataframe untuk mengakses column nilai dan kelas saja\n",
        "2. Lakukan indexing terhadap dataframe untuk mengakses row 5 sampai 10 beserta column pelajaran dan nilai"
      ]
    },
    {
      "cell_type": "code",
      "metadata": {
        "colab_type": "code",
        "id": "rKmgvnS2BGr6",
        "colab": {
          "base_uri": "https://localhost:8080/",
          "height": 639
        },
        "outputId": "f5b25ad1-3f69-4d05-d61e-1dc9e16998d1"
      },
      "source": [
        "# code here\n",
        "df[[\"nilai\",\"kelas\"]]"
      ],
      "execution_count": null,
      "outputs": [
        {
          "output_type": "execute_result",
          "data": {
            "text/html": [
              "<div>\n",
              "<style scoped>\n",
              "    .dataframe tbody tr th:only-of-type {\n",
              "        vertical-align: middle;\n",
              "    }\n",
              "\n",
              "    .dataframe tbody tr th {\n",
              "        vertical-align: top;\n",
              "    }\n",
              "\n",
              "    .dataframe thead th {\n",
              "        text-align: right;\n",
              "    }\n",
              "</style>\n",
              "<table border=\"1\" class=\"dataframe\">\n",
              "  <thead>\n",
              "    <tr style=\"text-align: right;\">\n",
              "      <th></th>\n",
              "      <th>nilai</th>\n",
              "      <th>kelas</th>\n",
              "    </tr>\n",
              "  </thead>\n",
              "  <tbody>\n",
              "    <tr>\n",
              "      <th>0</th>\n",
              "      <td>33</td>\n",
              "      <td>12D</td>\n",
              "    </tr>\n",
              "    <tr>\n",
              "      <th>1</th>\n",
              "      <td>54</td>\n",
              "      <td>12B</td>\n",
              "    </tr>\n",
              "    <tr>\n",
              "      <th>2</th>\n",
              "      <td>14</td>\n",
              "      <td>12D</td>\n",
              "    </tr>\n",
              "    <tr>\n",
              "      <th>3</th>\n",
              "      <td>13</td>\n",
              "      <td>12A</td>\n",
              "    </tr>\n",
              "    <tr>\n",
              "      <th>4</th>\n",
              "      <td>52</td>\n",
              "      <td>12A</td>\n",
              "    </tr>\n",
              "    <tr>\n",
              "      <th>5</th>\n",
              "      <td>14</td>\n",
              "      <td>12D</td>\n",
              "    </tr>\n",
              "    <tr>\n",
              "      <th>6</th>\n",
              "      <td>87</td>\n",
              "      <td>12D</td>\n",
              "    </tr>\n",
              "    <tr>\n",
              "      <th>7</th>\n",
              "      <td>59</td>\n",
              "      <td>12C</td>\n",
              "    </tr>\n",
              "    <tr>\n",
              "      <th>8</th>\n",
              "      <td>50</td>\n",
              "      <td>12C</td>\n",
              "    </tr>\n",
              "    <tr>\n",
              "      <th>9</th>\n",
              "      <td>58</td>\n",
              "      <td>12C</td>\n",
              "    </tr>\n",
              "    <tr>\n",
              "      <th>10</th>\n",
              "      <td>75</td>\n",
              "      <td>12B</td>\n",
              "    </tr>\n",
              "    <tr>\n",
              "      <th>11</th>\n",
              "      <td>11</td>\n",
              "      <td>12C</td>\n",
              "    </tr>\n",
              "    <tr>\n",
              "      <th>12</th>\n",
              "      <td>52</td>\n",
              "      <td>12A</td>\n",
              "    </tr>\n",
              "    <tr>\n",
              "      <th>13</th>\n",
              "      <td>13</td>\n",
              "      <td>12B</td>\n",
              "    </tr>\n",
              "    <tr>\n",
              "      <th>14</th>\n",
              "      <td>91</td>\n",
              "      <td>12D</td>\n",
              "    </tr>\n",
              "    <tr>\n",
              "      <th>15</th>\n",
              "      <td>28</td>\n",
              "      <td>12A</td>\n",
              "    </tr>\n",
              "    <tr>\n",
              "      <th>16</th>\n",
              "      <td>14</td>\n",
              "      <td>12A</td>\n",
              "    </tr>\n",
              "    <tr>\n",
              "      <th>17</th>\n",
              "      <td>98</td>\n",
              "      <td>12C</td>\n",
              "    </tr>\n",
              "    <tr>\n",
              "      <th>18</th>\n",
              "      <td>3</td>\n",
              "      <td>12B</td>\n",
              "    </tr>\n",
              "    <tr>\n",
              "      <th>19</th>\n",
              "      <td>38</td>\n",
              "      <td>12D</td>\n",
              "    </tr>\n",
              "  </tbody>\n",
              "</table>\n",
              "</div>"
            ],
            "text/plain": [
              "    nilai kelas\n",
              "0      33   12D\n",
              "1      54   12B\n",
              "2      14   12D\n",
              "3      13   12A\n",
              "4      52   12A\n",
              "5      14   12D\n",
              "6      87   12D\n",
              "7      59   12C\n",
              "8      50   12C\n",
              "9      58   12C\n",
              "10     75   12B\n",
              "11     11   12C\n",
              "12     52   12A\n",
              "13     13   12B\n",
              "14     91   12D\n",
              "15     28   12A\n",
              "16     14   12A\n",
              "17     98   12C\n",
              "18      3   12B\n",
              "19     38   12D"
            ]
          },
          "metadata": {
            "tags": []
          },
          "execution_count": 50
        }
      ]
    },
    {
      "cell_type": "code",
      "metadata": {
        "id": "t0ojIv9kNqsS",
        "colab_type": "code",
        "colab": {
          "base_uri": "https://localhost:8080/",
          "height": 225
        },
        "outputId": "7d4bc195-870f-4290-f50d-473c2210fe42"
      },
      "source": [
        "df.loc[4:9,['pelajaran','nilai']]"
      ],
      "execution_count": null,
      "outputs": [
        {
          "output_type": "execute_result",
          "data": {
            "text/html": [
              "<div>\n",
              "<style scoped>\n",
              "    .dataframe tbody tr th:only-of-type {\n",
              "        vertical-align: middle;\n",
              "    }\n",
              "\n",
              "    .dataframe tbody tr th {\n",
              "        vertical-align: top;\n",
              "    }\n",
              "\n",
              "    .dataframe thead th {\n",
              "        text-align: right;\n",
              "    }\n",
              "</style>\n",
              "<table border=\"1\" class=\"dataframe\">\n",
              "  <thead>\n",
              "    <tr style=\"text-align: right;\">\n",
              "      <th></th>\n",
              "      <th>pelajaran</th>\n",
              "      <th>nilai</th>\n",
              "    </tr>\n",
              "  </thead>\n",
              "  <tbody>\n",
              "    <tr>\n",
              "      <th>4</th>\n",
              "      <td>Matematika</td>\n",
              "      <td>52</td>\n",
              "    </tr>\n",
              "    <tr>\n",
              "      <th>5</th>\n",
              "      <td>Matematika</td>\n",
              "      <td>14</td>\n",
              "    </tr>\n",
              "    <tr>\n",
              "      <th>6</th>\n",
              "      <td>Ekonomi</td>\n",
              "      <td>87</td>\n",
              "    </tr>\n",
              "    <tr>\n",
              "      <th>7</th>\n",
              "      <td>Geologi</td>\n",
              "      <td>59</td>\n",
              "    </tr>\n",
              "    <tr>\n",
              "      <th>8</th>\n",
              "      <td>Fisika</td>\n",
              "      <td>50</td>\n",
              "    </tr>\n",
              "    <tr>\n",
              "      <th>9</th>\n",
              "      <td>Kimia</td>\n",
              "      <td>58</td>\n",
              "    </tr>\n",
              "  </tbody>\n",
              "</table>\n",
              "</div>"
            ],
            "text/plain": [
              "    pelajaran  nilai\n",
              "4  Matematika     52\n",
              "5  Matematika     14\n",
              "6     Ekonomi     87\n",
              "7     Geologi     59\n",
              "8      Fisika     50\n",
              "9       Kimia     58"
            ]
          },
          "metadata": {
            "tags": []
          },
          "execution_count": 51
        }
      ]
    },
    {
      "cell_type": "markdown",
      "metadata": {
        "colab_type": "text",
        "id": "F55zUl5GBGr_"
      },
      "source": [
        "<h2>Soal 2: Filter DataFrame Dengan Boolean</h2>\n",
        "\n",
        "1. Tampilkan semua data siswa pada mata pelajaran Ekonomi dan Fisika\n",
        "2. Tampilkan semua data siswa yang mempunyai nilai lebih dari 50 di mata pelajaran Kimia \n",
        "3. Tampilkan semua data yang mempunyai nilai lebih dari 70, berjnis kelamin perempuan dan di kelas 12C"
      ]
    },
    {
      "cell_type": "code",
      "metadata": {
        "colab_type": "code",
        "id": "eB5oSf_KBGsA",
        "colab": {
          "base_uri": "https://localhost:8080/",
          "height": 284
        },
        "outputId": "5f9004b6-ec48-4d2a-b336-56a7f8b01d22"
      },
      "source": [
        "# code here\n",
        "Fisika = df.pelajaran == 'Fisika'\n",
        "Ekonomi = df.pelajaran == 'Ekonomi'\n",
        "df[(Fisika)|(Ekonomi)]"
      ],
      "execution_count": null,
      "outputs": [
        {
          "output_type": "execute_result",
          "data": {
            "text/html": [
              "<div>\n",
              "<style scoped>\n",
              "    .dataframe tbody tr th:only-of-type {\n",
              "        vertical-align: middle;\n",
              "    }\n",
              "\n",
              "    .dataframe tbody tr th {\n",
              "        vertical-align: top;\n",
              "    }\n",
              "\n",
              "    .dataframe thead th {\n",
              "        text-align: right;\n",
              "    }\n",
              "</style>\n",
              "<table border=\"1\" class=\"dataframe\">\n",
              "  <thead>\n",
              "    <tr style=\"text-align: right;\">\n",
              "      <th></th>\n",
              "      <th>siswa_id</th>\n",
              "      <th>pelajaran</th>\n",
              "      <th>nilai</th>\n",
              "      <th>jenis-kelamin</th>\n",
              "      <th>kelas</th>\n",
              "    </tr>\n",
              "  </thead>\n",
              "  <tbody>\n",
              "    <tr>\n",
              "      <th>1</th>\n",
              "      <td>2</td>\n",
              "      <td>Ekonomi</td>\n",
              "      <td>54</td>\n",
              "      <td>laki-laki</td>\n",
              "      <td>12B</td>\n",
              "    </tr>\n",
              "    <tr>\n",
              "      <th>2</th>\n",
              "      <td>3</td>\n",
              "      <td>Ekonomi</td>\n",
              "      <td>14</td>\n",
              "      <td>perempuan</td>\n",
              "      <td>12D</td>\n",
              "    </tr>\n",
              "    <tr>\n",
              "      <th>6</th>\n",
              "      <td>7</td>\n",
              "      <td>Ekonomi</td>\n",
              "      <td>87</td>\n",
              "      <td>laki-laki</td>\n",
              "      <td>12D</td>\n",
              "    </tr>\n",
              "    <tr>\n",
              "      <th>8</th>\n",
              "      <td>9</td>\n",
              "      <td>Fisika</td>\n",
              "      <td>50</td>\n",
              "      <td>perempuan</td>\n",
              "      <td>12C</td>\n",
              "    </tr>\n",
              "    <tr>\n",
              "      <th>11</th>\n",
              "      <td>12</td>\n",
              "      <td>Ekonomi</td>\n",
              "      <td>11</td>\n",
              "      <td>perempuan</td>\n",
              "      <td>12C</td>\n",
              "    </tr>\n",
              "    <tr>\n",
              "      <th>14</th>\n",
              "      <td>15</td>\n",
              "      <td>Ekonomi</td>\n",
              "      <td>91</td>\n",
              "      <td>perempuan</td>\n",
              "      <td>12D</td>\n",
              "    </tr>\n",
              "    <tr>\n",
              "      <th>15</th>\n",
              "      <td>16</td>\n",
              "      <td>Ekonomi</td>\n",
              "      <td>28</td>\n",
              "      <td>laki-laki</td>\n",
              "      <td>12A</td>\n",
              "    </tr>\n",
              "    <tr>\n",
              "      <th>18</th>\n",
              "      <td>19</td>\n",
              "      <td>Ekonomi</td>\n",
              "      <td>3</td>\n",
              "      <td>laki-laki</td>\n",
              "      <td>12B</td>\n",
              "    </tr>\n",
              "  </tbody>\n",
              "</table>\n",
              "</div>"
            ],
            "text/plain": [
              "    siswa_id pelajaran  nilai jenis-kelamin kelas\n",
              "1          2   Ekonomi     54     laki-laki   12B\n",
              "2          3   Ekonomi     14     perempuan   12D\n",
              "6          7   Ekonomi     87     laki-laki   12D\n",
              "8          9    Fisika     50     perempuan   12C\n",
              "11        12   Ekonomi     11     perempuan   12C\n",
              "14        15   Ekonomi     91     perempuan   12D\n",
              "15        16   Ekonomi     28     laki-laki   12A\n",
              "18        19   Ekonomi      3     laki-laki   12B"
            ]
          },
          "metadata": {
            "tags": []
          },
          "execution_count": 52
        }
      ]
    },
    {
      "cell_type": "code",
      "metadata": {
        "id": "Zak2rbblbH7y",
        "colab_type": "code",
        "colab": {
          "base_uri": "https://localhost:8080/",
          "height": 106
        },
        "outputId": "0b1bca23-a2f1-4309-8b0b-d8aa116af557"
      },
      "source": [
        "Kimia = df.pelajaran == 'Kimia'\n",
        "lebih50 = df.nilai > 50\n",
        "df[(lebih50)&(Kimia)]"
      ],
      "execution_count": null,
      "outputs": [
        {
          "output_type": "execute_result",
          "data": {
            "text/html": [
              "<div>\n",
              "<style scoped>\n",
              "    .dataframe tbody tr th:only-of-type {\n",
              "        vertical-align: middle;\n",
              "    }\n",
              "\n",
              "    .dataframe tbody tr th {\n",
              "        vertical-align: top;\n",
              "    }\n",
              "\n",
              "    .dataframe thead th {\n",
              "        text-align: right;\n",
              "    }\n",
              "</style>\n",
              "<table border=\"1\" class=\"dataframe\">\n",
              "  <thead>\n",
              "    <tr style=\"text-align: right;\">\n",
              "      <th></th>\n",
              "      <th>siswa_id</th>\n",
              "      <th>pelajaran</th>\n",
              "      <th>nilai</th>\n",
              "      <th>jenis-kelamin</th>\n",
              "      <th>kelas</th>\n",
              "    </tr>\n",
              "  </thead>\n",
              "  <tbody>\n",
              "    <tr>\n",
              "      <th>9</th>\n",
              "      <td>10</td>\n",
              "      <td>Kimia</td>\n",
              "      <td>58</td>\n",
              "      <td>perempuan</td>\n",
              "      <td>12C</td>\n",
              "    </tr>\n",
              "    <tr>\n",
              "      <th>12</th>\n",
              "      <td>13</td>\n",
              "      <td>Kimia</td>\n",
              "      <td>52</td>\n",
              "      <td>laki-laki</td>\n",
              "      <td>12A</td>\n",
              "    </tr>\n",
              "  </tbody>\n",
              "</table>\n",
              "</div>"
            ],
            "text/plain": [
              "    siswa_id pelajaran  nilai jenis-kelamin kelas\n",
              "9         10     Kimia     58     perempuan   12C\n",
              "12        13     Kimia     52     laki-laki   12A"
            ]
          },
          "metadata": {
            "tags": []
          },
          "execution_count": 55
        }
      ]
    },
    {
      "cell_type": "code",
      "metadata": {
        "id": "6kapVZ5tbX8p",
        "colab_type": "code",
        "colab": {
          "base_uri": "https://localhost:8080/",
          "height": 77
        },
        "outputId": "42a15ca5-bac6-4305-ef8f-53ff3d9b5eb4"
      },
      "source": [
        "lebih70 = df.nilai > 70\n",
        "Kelas = df.kelas == '12C'\n",
        "Perempuan = df['jenis-kelamin'] == 'perempuan'\n",
        "df[(lebih70)&(Kelas)&(Perempuan)]"
      ],
      "execution_count": null,
      "outputs": [
        {
          "output_type": "execute_result",
          "data": {
            "text/html": [
              "<div>\n",
              "<style scoped>\n",
              "    .dataframe tbody tr th:only-of-type {\n",
              "        vertical-align: middle;\n",
              "    }\n",
              "\n",
              "    .dataframe tbody tr th {\n",
              "        vertical-align: top;\n",
              "    }\n",
              "\n",
              "    .dataframe thead th {\n",
              "        text-align: right;\n",
              "    }\n",
              "</style>\n",
              "<table border=\"1\" class=\"dataframe\">\n",
              "  <thead>\n",
              "    <tr style=\"text-align: right;\">\n",
              "      <th></th>\n",
              "      <th>siswa_id</th>\n",
              "      <th>pelajaran</th>\n",
              "      <th>nilai</th>\n",
              "      <th>jenis-kelamin</th>\n",
              "      <th>kelas</th>\n",
              "    </tr>\n",
              "  </thead>\n",
              "  <tbody>\n",
              "    <tr>\n",
              "      <th>17</th>\n",
              "      <td>18</td>\n",
              "      <td>Matematika</td>\n",
              "      <td>98</td>\n",
              "      <td>perempuan</td>\n",
              "      <td>12C</td>\n",
              "    </tr>\n",
              "  </tbody>\n",
              "</table>\n",
              "</div>"
            ],
            "text/plain": [
              "    siswa_id   pelajaran  nilai jenis-kelamin kelas\n",
              "17        18  Matematika     98     perempuan   12C"
            ]
          },
          "metadata": {
            "tags": []
          },
          "execution_count": 56
        }
      ]
    },
    {
      "cell_type": "markdown",
      "metadata": {
        "colab_type": "text",
        "id": "6Od6R3H1BGsE"
      },
      "source": [
        "<h2>Soal 3: Data Transformation</h2>\n",
        "\n",
        "lakukan data transformasi terhadap column 'nilai' dengan fungsi transformasi, berikut rumus dari normalisasi\n",
        "\n",
        "![alt text](https://drive.google.com/uc?id=1wed-EbRSTA0JP1ceDp6lcKBqH2yJ4aa3)"
      ]
    },
    {
      "cell_type": "code",
      "metadata": {
        "colab_type": "code",
        "id": "qeV_iH8nBGsF",
        "colab": {
          "base_uri": "https://localhost:8080/",
          "height": 386
        },
        "outputId": "3639c82c-6245-4179-e759-d2def60db0a5"
      },
      "source": [
        "# code here\n",
        "def normalized(df):\n",
        "    return (df - df.min() / df.max() - df.min())\n",
        "print(df[['nilai']].apply(normalized))\n"
      ],
      "execution_count": null,
      "outputs": [
        {
          "output_type": "stream",
          "text": [
            "        nilai\n",
            "0   29.969388\n",
            "1   50.969388\n",
            "2   10.969388\n",
            "3    9.969388\n",
            "4   48.969388\n",
            "5   10.969388\n",
            "6   83.969388\n",
            "7   55.969388\n",
            "8   46.969388\n",
            "9   54.969388\n",
            "10  71.969388\n",
            "11   7.969388\n",
            "12  48.969388\n",
            "13   9.969388\n",
            "14  87.969388\n",
            "15  24.969388\n",
            "16  10.969388\n",
            "17  94.969388\n",
            "18  -0.030612\n",
            "19  34.969388\n"
          ],
          "name": "stdout"
        }
      ]
    }
  ]
}